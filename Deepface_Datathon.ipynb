{
  "nbformat": 4,
  "nbformat_minor": 0,
  "metadata": {
    "colab": {
      "provenance": []
    },
    "kernelspec": {
      "name": "python3",
      "display_name": "Python 3"
    },
    "language_info": {
      "name": "python"
    }
  },
  "cells": [
    {
      "cell_type": "markdown",
      "source": [
        "Ronpeter Pintac-Divinagracia"
      ],
      "metadata": {
        "id": "r2lTIom86m5w"
      }
    },
    {
      "cell_type": "code",
      "execution_count": null,
      "metadata": {
        "id": "bGnJxcVzqK1J",
        "colab": {
          "base_uri": "https://localhost:8080/"
        },
        "outputId": "cc5133d0-9bd5-43f7-b57b-917c69f0dd52"
      },
      "outputs": [
        {
          "output_type": "stream",
          "name": "stdout",
          "text": [
            "Requirement already satisfied: Deepface in /usr/local/lib/python3.10/dist-packages (0.0.80)\n",
            "Requirement already satisfied: numpy>=1.14.0 in /usr/local/lib/python3.10/dist-packages (from Deepface) (1.23.5)\n",
            "Requirement already satisfied: pandas>=0.23.4 in /usr/local/lib/python3.10/dist-packages (from Deepface) (1.5.3)\n",
            "Requirement already satisfied: gdown>=3.10.1 in /usr/local/lib/python3.10/dist-packages (from Deepface) (4.6.6)\n",
            "Requirement already satisfied: tqdm>=4.30.0 in /usr/local/lib/python3.10/dist-packages (from Deepface) (4.66.1)\n",
            "Requirement already satisfied: Pillow>=5.2.0 in /usr/local/lib/python3.10/dist-packages (from Deepface) (9.4.0)\n",
            "Requirement already satisfied: opencv-python>=4.5.5.64 in /usr/local/lib/python3.10/dist-packages (from Deepface) (4.8.0.76)\n",
            "Requirement already satisfied: tensorflow>=1.9.0 in /usr/local/lib/python3.10/dist-packages (from Deepface) (2.15.0)\n",
            "Requirement already satisfied: keras>=2.2.0 in /usr/local/lib/python3.10/dist-packages (from Deepface) (2.15.0)\n",
            "Requirement already satisfied: Flask>=1.1.2 in /usr/local/lib/python3.10/dist-packages (from Deepface) (2.2.5)\n",
            "Requirement already satisfied: mtcnn>=0.1.0 in /usr/local/lib/python3.10/dist-packages (from Deepface) (0.1.1)\n",
            "Requirement already satisfied: retina-face>=0.0.1 in /usr/local/lib/python3.10/dist-packages (from Deepface) (0.0.13)\n",
            "Requirement already satisfied: fire>=0.4.0 in /usr/local/lib/python3.10/dist-packages (from Deepface) (0.5.0)\n",
            "Requirement already satisfied: gunicorn>=20.1.0 in /usr/local/lib/python3.10/dist-packages (from Deepface) (21.2.0)\n",
            "Requirement already satisfied: Deprecated>=1.2.13 in /usr/local/lib/python3.10/dist-packages (from Deepface) (1.2.14)\n",
            "Requirement already satisfied: wrapt<2,>=1.10 in /usr/local/lib/python3.10/dist-packages (from Deprecated>=1.2.13->Deepface) (1.14.1)\n",
            "Requirement already satisfied: six in /usr/local/lib/python3.10/dist-packages (from fire>=0.4.0->Deepface) (1.16.0)\n",
            "Requirement already satisfied: termcolor in /usr/local/lib/python3.10/dist-packages (from fire>=0.4.0->Deepface) (2.4.0)\n",
            "Requirement already satisfied: Werkzeug>=2.2.2 in /usr/local/lib/python3.10/dist-packages (from Flask>=1.1.2->Deepface) (3.0.1)\n",
            "Requirement already satisfied: Jinja2>=3.0 in /usr/local/lib/python3.10/dist-packages (from Flask>=1.1.2->Deepface) (3.1.2)\n",
            "Requirement already satisfied: itsdangerous>=2.0 in /usr/local/lib/python3.10/dist-packages (from Flask>=1.1.2->Deepface) (2.1.2)\n",
            "Requirement already satisfied: click>=8.0 in /usr/local/lib/python3.10/dist-packages (from Flask>=1.1.2->Deepface) (8.1.7)\n",
            "Requirement already satisfied: filelock in /usr/local/lib/python3.10/dist-packages (from gdown>=3.10.1->Deepface) (3.13.1)\n",
            "Requirement already satisfied: requests[socks] in /usr/local/lib/python3.10/dist-packages (from gdown>=3.10.1->Deepface) (2.31.0)\n",
            "Requirement already satisfied: beautifulsoup4 in /usr/local/lib/python3.10/dist-packages (from gdown>=3.10.1->Deepface) (4.11.2)\n",
            "Requirement already satisfied: packaging in /usr/local/lib/python3.10/dist-packages (from gunicorn>=20.1.0->Deepface) (23.2)\n",
            "Requirement already satisfied: python-dateutil>=2.8.1 in /usr/local/lib/python3.10/dist-packages (from pandas>=0.23.4->Deepface) (2.8.2)\n",
            "Requirement already satisfied: pytz>=2020.1 in /usr/local/lib/python3.10/dist-packages (from pandas>=0.23.4->Deepface) (2023.3.post1)\n",
            "Requirement already satisfied: absl-py>=1.0.0 in /usr/local/lib/python3.10/dist-packages (from tensorflow>=1.9.0->Deepface) (1.4.0)\n",
            "Requirement already satisfied: astunparse>=1.6.0 in /usr/local/lib/python3.10/dist-packages (from tensorflow>=1.9.0->Deepface) (1.6.3)\n",
            "Requirement already satisfied: flatbuffers>=23.5.26 in /usr/local/lib/python3.10/dist-packages (from tensorflow>=1.9.0->Deepface) (23.5.26)\n",
            "Requirement already satisfied: gast!=0.5.0,!=0.5.1,!=0.5.2,>=0.2.1 in /usr/local/lib/python3.10/dist-packages (from tensorflow>=1.9.0->Deepface) (0.5.4)\n",
            "Requirement already satisfied: google-pasta>=0.1.1 in /usr/local/lib/python3.10/dist-packages (from tensorflow>=1.9.0->Deepface) (0.2.0)\n",
            "Requirement already satisfied: h5py>=2.9.0 in /usr/local/lib/python3.10/dist-packages (from tensorflow>=1.9.0->Deepface) (3.9.0)\n",
            "Requirement already satisfied: libclang>=13.0.0 in /usr/local/lib/python3.10/dist-packages (from tensorflow>=1.9.0->Deepface) (16.0.6)\n",
            "Requirement already satisfied: ml-dtypes~=0.2.0 in /usr/local/lib/python3.10/dist-packages (from tensorflow>=1.9.0->Deepface) (0.2.0)\n",
            "Requirement already satisfied: opt-einsum>=2.3.2 in /usr/local/lib/python3.10/dist-packages (from tensorflow>=1.9.0->Deepface) (3.3.0)\n",
            "Requirement already satisfied: protobuf!=4.21.0,!=4.21.1,!=4.21.2,!=4.21.3,!=4.21.4,!=4.21.5,<5.0.0dev,>=3.20.3 in /usr/local/lib/python3.10/dist-packages (from tensorflow>=1.9.0->Deepface) (3.20.3)\n",
            "Requirement already satisfied: setuptools in /usr/local/lib/python3.10/dist-packages (from tensorflow>=1.9.0->Deepface) (67.7.2)\n",
            "Requirement already satisfied: typing-extensions>=3.6.6 in /usr/local/lib/python3.10/dist-packages (from tensorflow>=1.9.0->Deepface) (4.5.0)\n",
            "Requirement already satisfied: tensorflow-io-gcs-filesystem>=0.23.1 in /usr/local/lib/python3.10/dist-packages (from tensorflow>=1.9.0->Deepface) (0.34.0)\n",
            "Requirement already satisfied: grpcio<2.0,>=1.24.3 in /usr/local/lib/python3.10/dist-packages (from tensorflow>=1.9.0->Deepface) (1.60.0)\n",
            "Requirement already satisfied: tensorboard<2.16,>=2.15 in /usr/local/lib/python3.10/dist-packages (from tensorflow>=1.9.0->Deepface) (2.15.1)\n",
            "Requirement already satisfied: tensorflow-estimator<2.16,>=2.15.0 in /usr/local/lib/python3.10/dist-packages (from tensorflow>=1.9.0->Deepface) (2.15.0)\n",
            "Requirement already satisfied: wheel<1.0,>=0.23.0 in /usr/local/lib/python3.10/dist-packages (from astunparse>=1.6.0->tensorflow>=1.9.0->Deepface) (0.42.0)\n",
            "Requirement already satisfied: MarkupSafe>=2.0 in /usr/local/lib/python3.10/dist-packages (from Jinja2>=3.0->Flask>=1.1.2->Deepface) (2.1.3)\n",
            "Requirement already satisfied: google-auth<3,>=1.6.3 in /usr/local/lib/python3.10/dist-packages (from tensorboard<2.16,>=2.15->tensorflow>=1.9.0->Deepface) (2.17.3)\n",
            "Requirement already satisfied: google-auth-oauthlib<2,>=0.5 in /usr/local/lib/python3.10/dist-packages (from tensorboard<2.16,>=2.15->tensorflow>=1.9.0->Deepface) (1.2.0)\n",
            "Requirement already satisfied: markdown>=2.6.8 in /usr/local/lib/python3.10/dist-packages (from tensorboard<2.16,>=2.15->tensorflow>=1.9.0->Deepface) (3.5.1)\n",
            "Requirement already satisfied: tensorboard-data-server<0.8.0,>=0.7.0 in /usr/local/lib/python3.10/dist-packages (from tensorboard<2.16,>=2.15->tensorflow>=1.9.0->Deepface) (0.7.2)\n",
            "Requirement already satisfied: soupsieve>1.2 in /usr/local/lib/python3.10/dist-packages (from beautifulsoup4->gdown>=3.10.1->Deepface) (2.5)\n",
            "Requirement already satisfied: charset-normalizer<4,>=2 in /usr/local/lib/python3.10/dist-packages (from requests[socks]->gdown>=3.10.1->Deepface) (3.3.2)\n",
            "Requirement already satisfied: idna<4,>=2.5 in /usr/local/lib/python3.10/dist-packages (from requests[socks]->gdown>=3.10.1->Deepface) (3.6)\n",
            "Requirement already satisfied: urllib3<3,>=1.21.1 in /usr/local/lib/python3.10/dist-packages (from requests[socks]->gdown>=3.10.1->Deepface) (2.0.7)\n",
            "Requirement already satisfied: certifi>=2017.4.17 in /usr/local/lib/python3.10/dist-packages (from requests[socks]->gdown>=3.10.1->Deepface) (2023.11.17)\n",
            "Requirement already satisfied: PySocks!=1.5.7,>=1.5.6 in /usr/local/lib/python3.10/dist-packages (from requests[socks]->gdown>=3.10.1->Deepface) (1.7.1)\n",
            "Requirement already satisfied: cachetools<6.0,>=2.0.0 in /usr/local/lib/python3.10/dist-packages (from google-auth<3,>=1.6.3->tensorboard<2.16,>=2.15->tensorflow>=1.9.0->Deepface) (5.3.2)\n",
            "Requirement already satisfied: pyasn1-modules>=0.2.1 in /usr/local/lib/python3.10/dist-packages (from google-auth<3,>=1.6.3->tensorboard<2.16,>=2.15->tensorflow>=1.9.0->Deepface) (0.3.0)\n",
            "Requirement already satisfied: rsa<5,>=3.1.4 in /usr/local/lib/python3.10/dist-packages (from google-auth<3,>=1.6.3->tensorboard<2.16,>=2.15->tensorflow>=1.9.0->Deepface) (4.9)\n",
            "Requirement already satisfied: requests-oauthlib>=0.7.0 in /usr/local/lib/python3.10/dist-packages (from google-auth-oauthlib<2,>=0.5->tensorboard<2.16,>=2.15->tensorflow>=1.9.0->Deepface) (1.3.1)\n",
            "Requirement already satisfied: pyasn1<0.6.0,>=0.4.6 in /usr/local/lib/python3.10/dist-packages (from pyasn1-modules>=0.2.1->google-auth<3,>=1.6.3->tensorboard<2.16,>=2.15->tensorflow>=1.9.0->Deepface) (0.5.1)\n",
            "Requirement already satisfied: oauthlib>=3.0.0 in /usr/local/lib/python3.10/dist-packages (from requests-oauthlib>=0.7.0->google-auth-oauthlib<2,>=0.5->tensorboard<2.16,>=2.15->tensorflow>=1.9.0->Deepface) (3.2.2)\n"
          ]
        }
      ],
      "source": [
        "pip install Deepface"
      ]
    },
    {
      "cell_type": "markdown",
      "source": [
        "  #install Deepface\n",
        "\n"
      ],
      "metadata": {
        "id": "cWhjux0K6cCL"
      }
    },
    {
      "cell_type": "code",
      "source": [
        "from google.colab import drive\n",
        "drive.mount('/content/drive')"
      ],
      "metadata": {
        "id": "_c3OPYBe6kDw",
        "colab": {
          "base_uri": "https://localhost:8080/"
        },
        "outputId": "19267a35-c2aa-4dd2-d9e3-bcf5e70b6f52"
      },
      "execution_count": null,
      "outputs": [
        {
          "output_type": "stream",
          "name": "stdout",
          "text": [
            "Drive already mounted at /content/drive; to attempt to forcibly remount, call drive.mount(\"/content/drive\", force_remount=True).\n"
          ]
        }
      ]
    },
    {
      "cell_type": "code",
      "source": [
        "import os\n",
        "import csv\n",
        "from deepface import DeepFace"
      ],
      "metadata": {
        "id": "h9zMUcf82QHH"
      },
      "execution_count": null,
      "outputs": []
    },
    {
      "cell_type": "markdown",
      "source": [
        "Load in files"
      ],
      "metadata": {
        "id": "hflNqTV06wTO"
      }
    },
    {
      "cell_type": "code",
      "source": [
        "!cp \"/content/drive/MyDrive/Colab Notebooks/Deepface Datathon/faceimages.zip\" ."
      ],
      "metadata": {
        "id": "Y2HxSReK6uuL"
      },
      "execution_count": null,
      "outputs": []
    },
    {
      "cell_type": "code",
      "source": [
        "!unzip faceimages.zip"
      ],
      "metadata": {
        "id": "SpzpJGzMFnDi",
        "colab": {
          "base_uri": "https://localhost:8080/"
        },
        "outputId": "891579e3-cdde-4188-de71-8fca78f08925"
      },
      "execution_count": null,
      "outputs": [
        {
          "output_type": "stream",
          "name": "stdout",
          "text": [
            "Archive:  faceimages.zip\n",
            "   creating: faceimages/\n",
            " extracting: faceimages/00055.png    \n",
            " extracting: faceimages/00237.png    \n",
            " extracting: faceimages/00240.png    \n",
            " extracting: faceimages/00241.png    \n",
            "  inflating: faceimages/00242.png    \n",
            "  inflating: faceimages/00243.png    \n",
            " extracting: faceimages/00244.png    \n",
            " extracting: faceimages/00245.png    \n",
            "  inflating: faceimages/00246.png    \n",
            " extracting: faceimages/00247.png    \n",
            " extracting: faceimages/00248.png    \n",
            " extracting: faceimages/00249.png    \n",
            " extracting: faceimages/00253.png    \n",
            " extracting: faceimages/00255.png    \n",
            " extracting: faceimages/00257.png    \n",
            " extracting: faceimages/00258.png    \n",
            " extracting: faceimages/00259.png    \n",
            " extracting: faceimages/00260.png    \n",
            " extracting: faceimages/00261.png    \n",
            "  inflating: faceimages/00262.png    \n",
            " extracting: faceimages/00263.png    \n",
            "  inflating: faceimages/00264.png    \n",
            " extracting: faceimages/00265.png    \n",
            "  inflating: faceimages/00266.png    \n",
            " extracting: faceimages/00267.png    \n",
            "  inflating: faceimages/00268.png    \n",
            " extracting: faceimages/00269.png    \n",
            " extracting: faceimages/00270.png    \n",
            " extracting: faceimages/00271.png    \n",
            " extracting: faceimages/00272.png    \n",
            " extracting: faceimages/00273.png    \n",
            " extracting: faceimages/00274.png    \n",
            " extracting: faceimages/00275.png    \n",
            "  inflating: faceimages/00276.png    \n",
            " extracting: faceimages/00277.png    \n",
            "  inflating: faceimages/00278.png    \n",
            "  inflating: faceimages/00279.png    \n",
            " extracting: faceimages/00280.png    \n",
            " extracting: faceimages/00281.png    \n",
            " extracting: faceimages/00282.png    \n",
            "  inflating: faceimages/00283.png    \n",
            " extracting: faceimages/00284.png    \n",
            "  inflating: faceimages/00285.png    \n",
            " extracting: faceimages/00286.png    \n",
            "  inflating: faceimages/00287.png    \n",
            " extracting: faceimages/00288.png    \n",
            " extracting: faceimages/00289.png    \n",
            " extracting: faceimages/00290.png    \n",
            "  inflating: faceimages/00291.png    \n",
            " extracting: faceimages/00292.png    \n",
            " extracting: faceimages/00293.png    \n",
            " extracting: faceimages/00294.png    \n",
            " extracting: faceimages/00295.png    \n",
            " extracting: faceimages/00296.png    \n",
            "  inflating: faceimages/00297.png    \n",
            " extracting: faceimages/00298.png    \n",
            " extracting: faceimages/00299.png    \n",
            "  inflating: faceimages/00333.png    \n",
            " extracting: faceimages/00350.png    \n",
            "  inflating: faceimages/00351.png    \n",
            " extracting: faceimages/00352.png    \n",
            " extracting: faceimages/00353.png    \n",
            " extracting: faceimages/00354.png    \n",
            " extracting: faceimages/00355.png    \n",
            " extracting: faceimages/00356.png    \n",
            "  inflating: faceimages/00357.png    \n",
            " extracting: faceimages/00358.png    \n",
            " extracting: faceimages/00359.png    \n",
            " extracting: faceimages/00360.png    \n",
            " extracting: faceimages/00361.png    \n",
            " extracting: faceimages/00362.png    \n",
            " extracting: faceimages/00363.png    \n",
            " extracting: faceimages/00364.png    \n",
            " extracting: faceimages/00365.png    \n",
            "  inflating: faceimages/00366.png    \n",
            " extracting: faceimages/00367.png    \n",
            "  inflating: faceimages/00368.png    \n",
            " extracting: faceimages/00369.png    \n",
            " extracting: faceimages/00370.png    \n",
            " extracting: faceimages/00371.png    \n",
            " extracting: faceimages/00372.png    \n",
            " extracting: faceimages/00373.png    \n",
            " extracting: faceimages/00374.png    \n",
            " extracting: faceimages/00379.png    \n",
            "  inflating: faceimages/00400.png    \n",
            " extracting: faceimages/00401.png    \n",
            "  inflating: faceimages/00402.png    \n",
            "  inflating: faceimages/00403.png    \n",
            " extracting: faceimages/00404.png    \n",
            " extracting: faceimages/00405.png    \n",
            "  inflating: faceimages/00406.png    \n",
            " extracting: faceimages/00407.png    \n",
            " extracting: faceimages/00408.png    \n",
            " extracting: faceimages/00409.png    \n",
            " extracting: faceimages/00410.png    \n",
            " extracting: faceimages/00411.png    \n",
            " extracting: faceimages/00412.png    \n",
            " extracting: faceimages/00413.png    \n",
            " extracting: faceimages/00414.png    \n",
            " extracting: faceimages/00415.png    \n",
            " extracting: faceimages/00416.png    \n",
            " extracting: faceimages/00417.png    \n",
            "  inflating: faceimages/00418.png    \n",
            " extracting: faceimages/00419.png    \n",
            " extracting: faceimages/00420.png    \n",
            " extracting: faceimages/00421.png    \n",
            "  inflating: faceimages/00422.png    \n",
            "  inflating: faceimages/00423.png    \n",
            " extracting: faceimages/00424.png    \n",
            " extracting: faceimages/00450.png    \n"
          ]
        }
      ]
    },
    {
      "cell_type": "code",
      "source": [
        "backend = \"opencv\"\n",
        "categories = DeepFace.analyze(img_path = \"/content/faceimages/00055.png\", detector_backend = backend, actions = ['age', 'gender', 'race'])"
      ],
      "metadata": {
        "id": "AKhg4CDDLsRw",
        "colab": {
          "base_uri": "https://localhost:8080/"
        },
        "outputId": "92fb17c9-4ff3-4600-aed4-69d96f7da1db"
      },
      "execution_count": null,
      "outputs": [
        {
          "output_type": "stream",
          "name": "stderr",
          "text": [
            "Action: race: 100%|██████████| 3/3 [00:02<00:00,  1.25it/s]\n"
          ]
        }
      ]
    },
    {
      "cell_type": "markdown",
      "source": [
        "Define Deepface Learning Function to write to CSV"
      ],
      "metadata": {
        "id": "KVHl-6-VHZK3"
      }
    },
    {
      "cell_type": "code",
      "source": [
        "def DeepfaceDeepLearn():\n",
        "  backends = \"opencv\"\n",
        "  faces = os.listdir('/content/faceimages')\n",
        "  with open('DeepfaceResults.csv',\"w\") as csvfile:\n",
        "    csvfile.write('Filename, Gender, Race/Ethnicity, Age\\n')\n",
        "\n",
        "    for face in faces:\n",
        "      try:\n",
        "        cat = DeepFace.analyze(img_path = os.path.join('/content/faceimages', face),\n",
        "          detector_backend = backends,        actions = ['age', 'gender', 'race'])\n",
        "        age=cat[0]['age']\n",
        "        gender=max(cat[0]['gender'],key = cat[0]['gender'].get)\n",
        "        race=max(cat[0]['race'],key = cat[0]['race'].get)\n",
        "      except:\n",
        "        age=-1\n",
        "        gender='unknown'\n",
        "        race='unknown'\n",
        "\n",
        "      csvfile.write(f'{face},{gender},{race},{age}\\n')\n"
      ],
      "metadata": {
        "id": "R7p9te2GGIiZ"
      },
      "execution_count": 43,
      "outputs": []
    },
    {
      "cell_type": "code",
      "source": [
        "#Run Code\n",
        "\n",
        "DeepfaceDeepLearn()"
      ],
      "metadata": {
        "colab": {
          "base_uri": "https://localhost:8080/"
        },
        "id": "EuSV5JHTHnN3",
        "outputId": "592c8925-d75e-425d-b2a8-74c8d258a7dd"
      },
      "execution_count": 44,
      "outputs": [
        {
          "output_type": "stream",
          "name": "stderr",
          "text": [
            "Action: race: 100%|██████████| 3/3 [00:01<00:00,  2.00it/s]\n",
            "Action: race: 100%|██████████| 3/3 [00:01<00:00,  1.95it/s]\n",
            "Action: race: 100%|██████████| 3/3 [00:01<00:00,  2.07it/s]\n",
            "Action: race: 100%|██████████| 3/3 [00:02<00:00,  1.17it/s]\n",
            "Action: race: 100%|██████████| 3/3 [00:02<00:00,  1.19it/s]\n",
            "Action: race: 100%|██████████| 3/3 [00:01<00:00,  1.88it/s]\n",
            "Action: race: 100%|██████████| 3/3 [00:01<00:00,  2.08it/s]\n",
            "Action: race: 100%|██████████| 3/3 [00:01<00:00,  2.08it/s]\n",
            "Action: race: 100%|██████████| 3/3 [00:01<00:00,  1.66it/s]\n",
            "Action: race: 100%|██████████| 3/3 [00:01<00:00,  1.83it/s]\n",
            "Action: race: 100%|██████████| 3/3 [00:01<00:00,  2.06it/s]\n",
            "Action: race: 100%|██████████| 3/3 [00:01<00:00,  2.07it/s]\n",
            "Action: race: 100%|██████████| 3/3 [00:01<00:00,  1.84it/s]\n",
            "Action: race: 100%|██████████| 3/3 [00:01<00:00,  2.05it/s]\n",
            "Action: race: 100%|██████████| 3/3 [00:02<00:00,  1.24it/s]\n",
            "Action: race: 100%|██████████| 3/3 [00:01<00:00,  2.01it/s]\n",
            "Action: race: 100%|██████████| 3/3 [00:01<00:00,  1.73it/s]\n",
            "Action: race: 100%|██████████| 3/3 [00:01<00:00,  2.07it/s]\n",
            "Action: race: 100%|██████████| 3/3 [00:01<00:00,  2.03it/s]\n",
            "Action: race: 100%|██████████| 3/3 [00:01<00:00,  1.67it/s]\n",
            "Action: race: 100%|██████████| 3/3 [00:01<00:00,  1.92it/s]\n",
            "Action: race: 100%|██████████| 3/3 [00:01<00:00,  2.11it/s]\n",
            "Action: race: 100%|██████████| 3/3 [00:01<00:00,  2.10it/s]\n",
            "Action: race: 100%|██████████| 3/3 [00:01<00:00,  2.09it/s]\n",
            "Action: race: 100%|██████████| 3/3 [00:01<00:00,  2.07it/s]\n",
            "Action: race: 100%|██████████| 3/3 [00:01<00:00,  1.66it/s]\n",
            "Action: race: 100%|██████████| 3/3 [00:01<00:00,  1.90it/s]\n",
            "Action: race: 100%|██████████| 3/3 [00:01<00:00,  2.02it/s]\n",
            "Action: race: 100%|██████████| 3/3 [00:01<00:00,  2.10it/s]\n",
            "Action: race: 100%|██████████| 3/3 [00:01<00:00,  2.06it/s]\n",
            "Action: race: 100%|██████████| 3/3 [00:01<00:00,  2.05it/s]\n",
            "Action: race: 100%|██████████| 3/3 [00:01<00:00,  1.54it/s]\n",
            "Action: race: 100%|██████████| 3/3 [00:01<00:00,  2.03it/s]\n",
            "Action: race: 100%|██████████| 3/3 [00:01<00:00,  2.07it/s]\n",
            "Action: race: 100%|██████████| 3/3 [00:01<00:00,  2.08it/s]\n",
            "Action: race: 100%|██████████| 3/3 [00:01<00:00,  2.08it/s]\n",
            "Action: race: 100%|██████████| 3/3 [00:01<00:00,  2.01it/s]\n",
            "Action: race: 100%|██████████| 3/3 [00:01<00:00,  1.65it/s]\n",
            "Action: race: 100%|██████████| 3/3 [00:01<00:00,  2.11it/s]\n",
            "Action: race: 100%|██████████| 3/3 [00:01<00:00,  2.06it/s]\n",
            "Action: race: 100%|██████████| 3/3 [00:01<00:00,  2.05it/s]\n",
            "Action: race: 100%|██████████| 3/3 [00:01<00:00,  2.04it/s]\n",
            "Action: race: 100%|██████████| 3/3 [00:01<00:00,  1.79it/s]\n",
            "Action: race: 100%|██████████| 3/3 [00:01<00:00,  1.72it/s]\n",
            "Action: race: 100%|██████████| 3/3 [00:01<00:00,  2.13it/s]\n",
            "Action: race: 100%|██████████| 3/3 [00:01<00:00,  2.05it/s]\n",
            "Action: race: 100%|██████████| 3/3 [00:01<00:00,  2.01it/s]\n",
            "Action: race: 100%|██████████| 3/3 [00:01<00:00,  2.04it/s]\n",
            "Action: race: 100%|██████████| 3/3 [00:01<00:00,  1.74it/s]\n",
            "Action: race: 100%|██████████| 3/3 [00:01<00:00,  1.72it/s]\n",
            "Action: race: 100%|██████████| 3/3 [00:01<00:00,  2.11it/s]\n",
            "Action: race: 100%|██████████| 3/3 [00:01<00:00,  2.07it/s]\n",
            "Action: race: 100%|██████████| 3/3 [00:01<00:00,  2.08it/s]\n",
            "Action: race: 100%|██████████| 3/3 [00:01<00:00,  2.05it/s]\n",
            "Action: race: 100%|██████████| 3/3 [00:01<00:00,  1.78it/s]\n",
            "Action: race: 100%|██████████| 3/3 [00:01<00:00,  1.70it/s]\n",
            "Action: race: 100%|██████████| 3/3 [00:01<00:00,  2.09it/s]\n",
            "Action: race: 100%|██████████| 3/3 [00:01<00:00,  2.06it/s]\n",
            "Action: race: 100%|██████████| 3/3 [00:01<00:00,  2.06it/s]\n",
            "Action: race: 100%|██████████| 3/3 [00:01<00:00,  2.06it/s]\n",
            "Action: race: 100%|██████████| 3/3 [00:01<00:00,  1.72it/s]\n",
            "Action: race: 100%|██████████| 3/3 [00:01<00:00,  1.78it/s]\n",
            "Action: race: 100%|██████████| 3/3 [00:01<00:00,  1.99it/s]\n",
            "Action: race: 100%|██████████| 3/3 [00:01<00:00,  2.01it/s]\n",
            "Action: race: 100%|██████████| 3/3 [00:01<00:00,  2.06it/s]\n",
            "Action: race: 100%|██████████| 3/3 [00:01<00:00,  2.08it/s]\n",
            "Action: race: 100%|██████████| 3/3 [00:01<00:00,  1.86it/s]\n",
            "Action: race: 100%|██████████| 3/3 [00:01<00:00,  1.66it/s]\n",
            "Action: race: 100%|██████████| 3/3 [00:01<00:00,  2.11it/s]\n",
            "Action: race: 100%|██████████| 3/3 [00:01<00:00,  2.02it/s]\n",
            "Action: race: 100%|██████████| 3/3 [00:01<00:00,  2.04it/s]\n",
            "Action: race: 100%|██████████| 3/3 [00:01<00:00,  2.07it/s]\n",
            "Action: race: 100%|██████████| 3/3 [00:01<00:00,  1.81it/s]\n",
            "Action: race: 100%|██████████| 3/3 [00:01<00:00,  1.72it/s]\n",
            "Action: race: 100%|██████████| 3/3 [00:01<00:00,  2.06it/s]\n",
            "Action: race: 100%|██████████| 3/3 [00:01<00:00,  2.03it/s]\n",
            "Action: race: 100%|██████████| 3/3 [00:01<00:00,  2.01it/s]\n",
            "Action: race: 100%|██████████| 3/3 [00:01<00:00,  2.06it/s]\n",
            "Action: race: 100%|██████████| 3/3 [00:01<00:00,  1.79it/s]\n",
            "Action: race: 100%|██████████| 3/3 [00:01<00:00,  1.70it/s]\n",
            "Action: race: 100%|██████████| 3/3 [00:01<00:00,  2.07it/s]\n",
            "Action: race: 100%|██████████| 3/3 [00:01<00:00,  2.05it/s]\n",
            "Action: race: 100%|██████████| 3/3 [00:01<00:00,  2.06it/s]\n",
            "Action: race: 100%|██████████| 3/3 [00:01<00:00,  2.03it/s]\n",
            "Action: race: 100%|██████████| 3/3 [00:01<00:00,  2.06it/s]\n",
            "Action: race: 100%|██████████| 3/3 [00:01<00:00,  1.51it/s]\n",
            "Action: race: 100%|██████████| 3/3 [00:01<00:00,  2.06it/s]\n",
            "Action: race: 100%|██████████| 3/3 [00:01<00:00,  2.01it/s]\n",
            "Action: race: 100%|██████████| 3/3 [00:01<00:00,  2.05it/s]\n",
            "Action: race: 100%|██████████| 3/3 [00:01<00:00,  2.02it/s]\n",
            "Action: race: 100%|██████████| 3/3 [00:01<00:00,  1.76it/s]\n",
            "Action: race: 100%|██████████| 3/3 [00:01<00:00,  1.71it/s]\n",
            "Action: race: 100%|██████████| 3/3 [00:01<00:00,  2.05it/s]\n",
            "Action: race: 100%|██████████| 3/3 [00:01<00:00,  2.06it/s]\n",
            "Action: race: 100%|██████████| 3/3 [00:01<00:00,  2.06it/s]\n",
            "Action: race: 100%|██████████| 3/3 [00:01<00:00,  2.03it/s]\n",
            "Action: race: 100%|██████████| 3/3 [00:01<00:00,  1.63it/s]\n",
            "Action: race: 100%|██████████| 3/3 [00:01<00:00,  1.86it/s]\n",
            "Action: race: 100%|██████████| 3/3 [00:01<00:00,  2.07it/s]\n",
            "Action: race: 100%|██████████| 3/3 [00:01<00:00,  2.02it/s]\n",
            "Action: race: 100%|██████████| 3/3 [00:01<00:00,  2.00it/s]\n",
            "Action: race: 100%|██████████| 3/3 [00:01<00:00,  1.97it/s]\n",
            "Action: race: 100%|██████████| 3/3 [00:02<00:00,  1.48it/s]\n",
            "Action: race: 100%|██████████| 3/3 [00:01<00:00,  2.03it/s]\n",
            "Action: race: 100%|██████████| 3/3 [00:01<00:00,  2.04it/s]\n"
          ]
        }
      ]
    }
  ]
}